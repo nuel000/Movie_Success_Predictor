{
 "cells": [
  {
   "cell_type": "markdown",
   "metadata": {},
   "source": [
    "# Gathering Data for our Project"
   ]
  },
  {
   "cell_type": "markdown",
   "metadata": {},
   "source": [
    "## Making the API request/call"
   ]
  },
  {
   "cell_type": "code",
   "execution_count": 2,
   "metadata": {},
   "outputs": [
    {
     "name": "stderr",
     "output_type": "stream",
     "text": [
      "WARNING: Ignoring invalid distribution -cipy (c:\\users\\user\\anaconda3\\lib\\site-packages)\n",
      "WARNING: Ignoring invalid distribution -cipy (c:\\users\\user\\anaconda3\\lib\\site-packages)\n",
      "WARNING: Ignoring invalid distribution -cipy (c:\\users\\user\\anaconda3\\lib\\site-packages)\n",
      "WARNING: Ignoring invalid distribution -cipy (c:\\users\\user\\anaconda3\\lib\\site-packages)\n",
      "WARNING: Ignoring invalid distribution -cipy (c:\\users\\user\\anaconda3\\lib\\site-packages)\n",
      "WARNING: Ignoring invalid distribution -cipy (c:\\users\\user\\anaconda3\\lib\\site-packages)\n",
      "WARNING: Ignoring invalid distribution -cipy (c:\\users\\user\\anaconda3\\lib\\site-packages)\n"
     ]
    }
   ],
   "source": [
    "# installing libraries\n",
    "!pip install tmdbsimple --quiet"
   ]
  },
  {
   "cell_type": "code",
   "execution_count": 1,
   "metadata": {
    "id": "gsyuwJH6pxpu"
   },
   "outputs": [],
   "source": [
    "#importing libraries\n",
    "import tmdbsimple as tmdb\n",
    "import requests\n",
    "import locale\n",
    "import pandas as pd"
   ]
  },
  {
   "cell_type": "code",
   "execution_count": 2,
   "metadata": {},
   "outputs": [
    {
     "name": "stdout",
     "output_type": "stream",
     "text": [
      "Failed to fetch data\n"
     ]
    },
    {
     "data": {
      "text/html": [
       "<div>\n",
       "<style scoped>\n",
       "    .dataframe tbody tr th:only-of-type {\n",
       "        vertical-align: middle;\n",
       "    }\n",
       "\n",
       "    .dataframe tbody tr th {\n",
       "        vertical-align: top;\n",
       "    }\n",
       "\n",
       "    .dataframe thead th {\n",
       "        text-align: right;\n",
       "    }\n",
       "</style>\n",
       "<table border=\"1\" class=\"dataframe\">\n",
       "  <thead>\n",
       "    <tr style=\"text-align: right;\">\n",
       "      <th></th>\n",
       "      <th>adult</th>\n",
       "      <th>backdrop_path</th>\n",
       "      <th>genre_ids</th>\n",
       "      <th>id</th>\n",
       "      <th>original_language</th>\n",
       "      <th>original_title</th>\n",
       "      <th>overview</th>\n",
       "      <th>popularity</th>\n",
       "      <th>poster_path</th>\n",
       "      <th>release_date</th>\n",
       "      <th>title</th>\n",
       "      <th>video</th>\n",
       "      <th>vote_average</th>\n",
       "      <th>vote_count</th>\n",
       "    </tr>\n",
       "  </thead>\n",
       "  <tbody>\n",
       "    <tr>\n",
       "      <th>0</th>\n",
       "      <td>False</td>\n",
       "      <td>/7RyHsO4yDXtBv1zUU3mTpHeQ0d5.jpg</td>\n",
       "      <td>[12, 878, 28]</td>\n",
       "      <td>299534</td>\n",
       "      <td>en</td>\n",
       "      <td>Avengers: Endgame</td>\n",
       "      <td>After the devastating events of Avengers: Infi...</td>\n",
       "      <td>113.382</td>\n",
       "      <td>/or06FN3Dka5tukK1e9sl16pB3iy.jpg</td>\n",
       "      <td>2019-04-24</td>\n",
       "      <td>Avengers: Endgame</td>\n",
       "      <td>False</td>\n",
       "      <td>8.3</td>\n",
       "      <td>23033</td>\n",
       "    </tr>\n",
       "    <tr>\n",
       "      <th>1</th>\n",
       "      <td>False</td>\n",
       "      <td>/ovM06PdF3M8wvKb06i4sjW3xoww.jpg</td>\n",
       "      <td>[878, 12, 28]</td>\n",
       "      <td>76600</td>\n",
       "      <td>en</td>\n",
       "      <td>Avatar: The Way of Water</td>\n",
       "      <td>Set more than a decade after the events of the...</td>\n",
       "      <td>3900.586</td>\n",
       "      <td>/t6HIqrRAclMCA60NsSmeqe9RmNV.jpg</td>\n",
       "      <td>2022-12-14</td>\n",
       "      <td>Avatar: The Way of Water</td>\n",
       "      <td>False</td>\n",
       "      <td>7.7</td>\n",
       "      <td>7489</td>\n",
       "    </tr>\n",
       "    <tr>\n",
       "      <th>2</th>\n",
       "      <td>False</td>\n",
       "      <td>/8BTsTfln4jlQrLXUBquXJ0ASQy9.jpg</td>\n",
       "      <td>[12, 28, 878, 14]</td>\n",
       "      <td>140607</td>\n",
       "      <td>en</td>\n",
       "      <td>Star Wars: The Force Awakens</td>\n",
       "      <td>Thirty years after defeating the Galactic Empi...</td>\n",
       "      <td>51.678</td>\n",
       "      <td>/wqnLdwVXoBjKibFRR5U3y0aDUhs.jpg</td>\n",
       "      <td>2015-12-15</td>\n",
       "      <td>Star Wars: The Force Awakens</td>\n",
       "      <td>False</td>\n",
       "      <td>7.3</td>\n",
       "      <td>17944</td>\n",
       "    </tr>\n",
       "    <tr>\n",
       "      <th>3</th>\n",
       "      <td>False</td>\n",
       "      <td>/mDfJG3LC3Dqb67AZ52x3Z0jU0uB.jpg</td>\n",
       "      <td>[12, 28, 878]</td>\n",
       "      <td>299536</td>\n",
       "      <td>en</td>\n",
       "      <td>Avengers: Infinity War</td>\n",
       "      <td>As the Avengers and their allies have continue...</td>\n",
       "      <td>234.530</td>\n",
       "      <td>/7WsyChQLEftFiDOVTGkv3hFpyyt.jpg</td>\n",
       "      <td>2018-04-25</td>\n",
       "      <td>Avengers: Infinity War</td>\n",
       "      <td>False</td>\n",
       "      <td>8.3</td>\n",
       "      <td>26738</td>\n",
       "    </tr>\n",
       "    <tr>\n",
       "      <th>4</th>\n",
       "      <td>False</td>\n",
       "      <td>/14QbnygCuTO0vl7CAFmPf1fgZfV.jpg</td>\n",
       "      <td>[28, 12, 878]</td>\n",
       "      <td>634649</td>\n",
       "      <td>en</td>\n",
       "      <td>Spider-Man: No Way Home</td>\n",
       "      <td>Peter Parker is unmasked and no longer able to...</td>\n",
       "      <td>347.550</td>\n",
       "      <td>/uJYYizSuA9Y3DCs0qS4qWvHfZg4.jpg</td>\n",
       "      <td>2021-12-15</td>\n",
       "      <td>Spider-Man: No Way Home</td>\n",
       "      <td>False</td>\n",
       "      <td>8.0</td>\n",
       "      <td>17230</td>\n",
       "    </tr>\n",
       "  </tbody>\n",
       "</table>\n",
       "</div>"
      ],
      "text/plain": [
       "   adult                     backdrop_path          genre_ids      id  \\\n",
       "0  False  /7RyHsO4yDXtBv1zUU3mTpHeQ0d5.jpg      [12, 878, 28]  299534   \n",
       "1  False  /ovM06PdF3M8wvKb06i4sjW3xoww.jpg      [878, 12, 28]   76600   \n",
       "2  False  /8BTsTfln4jlQrLXUBquXJ0ASQy9.jpg  [12, 28, 878, 14]  140607   \n",
       "3  False  /mDfJG3LC3Dqb67AZ52x3Z0jU0uB.jpg      [12, 28, 878]  299536   \n",
       "4  False  /14QbnygCuTO0vl7CAFmPf1fgZfV.jpg      [28, 12, 878]  634649   \n",
       "\n",
       "  original_language                original_title  \\\n",
       "0                en             Avengers: Endgame   \n",
       "1                en      Avatar: The Way of Water   \n",
       "2                en  Star Wars: The Force Awakens   \n",
       "3                en        Avengers: Infinity War   \n",
       "4                en       Spider-Man: No Way Home   \n",
       "\n",
       "                                            overview  popularity  \\\n",
       "0  After the devastating events of Avengers: Infi...     113.382   \n",
       "1  Set more than a decade after the events of the...    3900.586   \n",
       "2  Thirty years after defeating the Galactic Empi...      51.678   \n",
       "3  As the Avengers and their allies have continue...     234.530   \n",
       "4  Peter Parker is unmasked and no longer able to...     347.550   \n",
       "\n",
       "                        poster_path release_date  \\\n",
       "0  /or06FN3Dka5tukK1e9sl16pB3iy.jpg   2019-04-24   \n",
       "1  /t6HIqrRAclMCA60NsSmeqe9RmNV.jpg   2022-12-14   \n",
       "2  /wqnLdwVXoBjKibFRR5U3y0aDUhs.jpg   2015-12-15   \n",
       "3  /7WsyChQLEftFiDOVTGkv3hFpyyt.jpg   2018-04-25   \n",
       "4  /uJYYizSuA9Y3DCs0qS4qWvHfZg4.jpg   2021-12-15   \n",
       "\n",
       "                          title  video  vote_average  vote_count  \n",
       "0             Avengers: Endgame  False           8.3       23033  \n",
       "1      Avatar: The Way of Water  False           7.7        7489  \n",
       "2  Star Wars: The Force Awakens  False           7.3       17944  \n",
       "3        Avengers: Infinity War  False           8.3       26738  \n",
       "4       Spider-Man: No Way Home  False           8.0       17230  "
      ]
     },
     "execution_count": 2,
     "metadata": {},
     "output_type": "execute_result"
    }
   ],
   "source": [
    "import requests\n",
    "import pandas as pd\n",
    "\n",
    "api_key = \"c5b8aa01e09c8ea8e046e9d50e876554\"\n",
    "url = \"https://api.themoviedb.org/3/discover/movie\"\n",
    "\n",
    "params = {\n",
    "    \"api_key\": api_key,\n",
    "    \"primary_release_date.gte\": \"2013-01-01\",\n",
    "    \"sort_by\": \"revenue.desc\",\n",
    "    \"page\": 1\n",
    "}\n",
    "\n",
    "movies = []\n",
    "\n",
    "# Make multiple requests to fetch all movies\n",
    "while True:\n",
    "    response = requests.get(url, params=params)\n",
    "    if response.status_code == 200:\n",
    "        results = response.json()[\"results\"]\n",
    "        movies.extend(results)\n",
    "        # Check if there are more pages to fetch\n",
    "        if response.json()[\"page\"] < response.json()[\"total_pages\"]:\n",
    "            params[\"page\"] = response.json()[\"page\"] + 1\n",
    "        else:\n",
    "            break\n",
    "    else:\n",
    "        print(\"Failed to fetch data\")\n",
    "        break\n",
    "\n",
    "df = pd.DataFrame.from_dict(movies)\n",
    "df.head()"
   ]
  },
  {
   "cell_type": "code",
   "execution_count": 12,
   "metadata": {},
   "outputs": [
    {
     "name": "stdout",
     "output_type": "stream",
     "text": [
      "we have received data for 10000 movies, having 14 features\n"
     ]
    }
   ],
   "source": [
    "print('we have received data for {} movies, having {} features'.format(df.shape[0],df.shape[1]))"
   ]
  },
  {
   "cell_type": "markdown",
   "metadata": {},
   "source": [
    "Now, lets use the movie ids to extract more details such as revenue, budget, runtime etc....\n",
    "I'll be using the movie IDs to extract these details."
   ]
  },
  {
   "cell_type": "code",
   "execution_count": 10,
   "metadata": {},
   "outputs": [],
   "source": [
    "# creating a list for movie IDs\n",
    "idz = df.id.to_list()"
   ]
  },
  {
   "cell_type": "code",
   "execution_count": 7,
   "metadata": {},
   "outputs": [
    {
     "data": {
      "text/plain": [
       "10000"
      ]
     },
     "execution_count": 7,
     "metadata": {},
     "output_type": "execute_result"
    }
   ],
   "source": [
    "len(idz)"
   ]
  },
  {
   "cell_type": "code",
   "execution_count": 39,
   "metadata": {},
   "outputs": [
    {
     "name": "stdout",
     "output_type": "stream",
     "text": [
      "Error fetching data for movie ID 1112123\n",
      "Error fetching data for movie ID 1114185\n",
      "(9998, 10)\n"
     ]
    }
   ],
   "source": [
    "# set up the TMDB API endpoint and parameters\n",
    "url = \"https://api.themoviedb.org/3/movie/{}\"\n",
    "params = {\n",
    "    \"api_key\": \"c5b8aa01e09c8ea8e046e9d50e876554\"\n",
    "}\n",
    "\n",
    "# fetch data for each movie ID and store in a list\n",
    "movies_data = []\n",
    "for movie_id in idz:\n",
    "    response = requests.get(url.format(movie_id), params=params)\n",
    "    if response.status_code == 200:\n",
    "        movie_data = response.json()\n",
    "        movie_data['movie_id'] = movie_id  # add movie_id to movie_data\n",
    "        movies_data.append(movie_data)\n",
    "    else:\n",
    "        print(f\"Error fetching data for movie ID {movie_id}\")\n",
    "\n",
    "# create a pandas DataFrame from the list of movie data\n",
    "movies_df = pd.DataFrame(movies_data, columns=['movie_id', 'budget', 'production_companies', 'production_countries', 'revenue', 'runtime', 'spoken_languages', 'status', 'tagline', 'title'])\n",
    "\n",
    "# print the DataFrame\n",
    "print(movies_df.shape)"
   ]
  },
  {
   "cell_type": "code",
   "execution_count": 40,
   "metadata": {},
   "outputs": [
    {
     "data": {
      "text/html": [
       "<div>\n",
       "<style scoped>\n",
       "    .dataframe tbody tr th:only-of-type {\n",
       "        vertical-align: middle;\n",
       "    }\n",
       "\n",
       "    .dataframe tbody tr th {\n",
       "        vertical-align: top;\n",
       "    }\n",
       "\n",
       "    .dataframe thead th {\n",
       "        text-align: right;\n",
       "    }\n",
       "</style>\n",
       "<table border=\"1\" class=\"dataframe\">\n",
       "  <thead>\n",
       "    <tr style=\"text-align: right;\">\n",
       "      <th></th>\n",
       "      <th>movie_id</th>\n",
       "      <th>budget</th>\n",
       "      <th>production_companies</th>\n",
       "      <th>production_countries</th>\n",
       "      <th>revenue</th>\n",
       "      <th>runtime</th>\n",
       "      <th>spoken_languages</th>\n",
       "      <th>status</th>\n",
       "      <th>tagline</th>\n",
       "      <th>title</th>\n",
       "    </tr>\n",
       "  </thead>\n",
       "  <tbody>\n",
       "    <tr>\n",
       "      <th>0</th>\n",
       "      <td>502356</td>\n",
       "      <td>100000000</td>\n",
       "      <td>[{'id': 33, 'logo_path': '/8lvHyhjr8oUKOOy2dKX...</td>\n",
       "      <td>[{'iso_3166_1': 'JP', 'name': 'Japan'}, {'iso_...</td>\n",
       "      <td>891438061</td>\n",
       "      <td>92</td>\n",
       "      <td>[{'english_name': 'English', 'iso_639_1': 'en'...</td>\n",
       "      <td>Released</td>\n",
       "      <td></td>\n",
       "      <td>The Super Mario Bros. Movie</td>\n",
       "    </tr>\n",
       "    <tr>\n",
       "      <th>1</th>\n",
       "      <td>640146</td>\n",
       "      <td>200000000</td>\n",
       "      <td>[{'id': 420, 'logo_path': '/hUzeosd33nzE5MCNsZ...</td>\n",
       "      <td>[{'iso_3166_1': 'US', 'name': 'United States o...</td>\n",
       "      <td>473237851</td>\n",
       "      <td>125</td>\n",
       "      <td>[{'english_name': 'English', 'iso_639_1': 'en'...</td>\n",
       "      <td>Released</td>\n",
       "      <td>Witness the beginning of a new dynasty.</td>\n",
       "      <td>Ant-Man and the Wasp: Quantumania</td>\n",
       "    </tr>\n",
       "    <tr>\n",
       "      <th>2</th>\n",
       "      <td>594767</td>\n",
       "      <td>125000000</td>\n",
       "      <td>[{'id': 12, 'logo_path': '/5ThIuO93vsk47oexKTS...</td>\n",
       "      <td>[{'iso_3166_1': 'US', 'name': 'United States o...</td>\n",
       "      <td>132128334</td>\n",
       "      <td>130</td>\n",
       "      <td>[{'english_name': 'English', 'iso_639_1': 'en'...</td>\n",
       "      <td>Released</td>\n",
       "      <td>Oh. My. Gods.</td>\n",
       "      <td>Shazam! Fury of the Gods</td>\n",
       "    </tr>\n",
       "  </tbody>\n",
       "</table>\n",
       "</div>"
      ],
      "text/plain": [
       "   movie_id     budget                               production_companies  \\\n",
       "0    502356  100000000  [{'id': 33, 'logo_path': '/8lvHyhjr8oUKOOy2dKX...   \n",
       "1    640146  200000000  [{'id': 420, 'logo_path': '/hUzeosd33nzE5MCNsZ...   \n",
       "2    594767  125000000  [{'id': 12, 'logo_path': '/5ThIuO93vsk47oexKTS...   \n",
       "\n",
       "                                production_countries    revenue  runtime  \\\n",
       "0  [{'iso_3166_1': 'JP', 'name': 'Japan'}, {'iso_...  891438061       92   \n",
       "1  [{'iso_3166_1': 'US', 'name': 'United States o...  473237851      125   \n",
       "2  [{'iso_3166_1': 'US', 'name': 'United States o...  132128334      130   \n",
       "\n",
       "                                    spoken_languages    status  \\\n",
       "0  [{'english_name': 'English', 'iso_639_1': 'en'...  Released   \n",
       "1  [{'english_name': 'English', 'iso_639_1': 'en'...  Released   \n",
       "2  [{'english_name': 'English', 'iso_639_1': 'en'...  Released   \n",
       "\n",
       "                                   tagline                              title  \n",
       "0                                                 The Super Mario Bros. Movie  \n",
       "1  Witness the beginning of a new dynasty.  Ant-Man and the Wasp: Quantumania  \n",
       "2                            Oh. My. Gods.           Shazam! Fury of the Gods  "
      ]
     },
     "execution_count": 40,
     "metadata": {},
     "output_type": "execute_result"
    }
   ],
   "source": [
    "movies_df.head(3)"
   ]
  },
  {
   "cell_type": "markdown",
   "metadata": {},
   "source": [
    "Notice, we were unable to extract details for movie IDs `1112123` and `1114185`\n",
    "So, we'll drop those rows in the main `df` dataframe and merge this new information we have to it."
   ]
  },
  {
   "cell_type": "code",
   "execution_count": 41,
   "metadata": {},
   "outputs": [],
   "source": [
    "# dropping rows\n",
    "\n",
    "df = df.drop(df[df[\"id\"].isin([112123, 114185])].index)"
   ]
  },
  {
   "cell_type": "markdown",
   "metadata": {},
   "source": [
    "To merge both dataframes on an common column,that common column on the 2 different tables has to have a common name, and the best column to use as an intersection when merging 2 dataframes is usually the id  column, reason is because each movie id is unique i.e there cannot be case when 2 movies share one id."
   ]
  },
  {
   "cell_type": "markdown",
   "metadata": {},
   "source": [
    "First, lets change the `movies_id` column in our `movies_df` to just `id`, so that we can merge."
   ]
  },
  {
   "cell_type": "code",
   "execution_count": 48,
   "metadata": {},
   "outputs": [],
   "source": [
    "movies_df = movies_df.rename(columns={'movie_id': 'id'})"
   ]
  },
  {
   "cell_type": "markdown",
   "metadata": {},
   "source": [
    "Now, let's merge the dataframe"
   ]
  },
  {
   "cell_type": "code",
   "execution_count": 49,
   "metadata": {},
   "outputs": [
    {
     "name": "stdout",
     "output_type": "stream",
     "text": [
      "(9998, 23)\n"
     ]
    }
   ],
   "source": [
    "final_df = pd.merge(df, movies_df, on='id')\n",
    "\n",
    "# Print the merged DataFrame\n",
    "print(final_df.shape)"
   ]
  },
  {
   "cell_type": "code",
   "execution_count": 50,
   "metadata": {
    "scrolled": true
   },
   "outputs": [
    {
     "data": {
      "text/html": [
       "<div>\n",
       "<style scoped>\n",
       "    .dataframe tbody tr th:only-of-type {\n",
       "        vertical-align: middle;\n",
       "    }\n",
       "\n",
       "    .dataframe tbody tr th {\n",
       "        vertical-align: top;\n",
       "    }\n",
       "\n",
       "    .dataframe thead th {\n",
       "        text-align: right;\n",
       "    }\n",
       "</style>\n",
       "<table border=\"1\" class=\"dataframe\">\n",
       "  <thead>\n",
       "    <tr style=\"text-align: right;\">\n",
       "      <th></th>\n",
       "      <th>adult</th>\n",
       "      <th>backdrop_path</th>\n",
       "      <th>genre_ids</th>\n",
       "      <th>id</th>\n",
       "      <th>original_language</th>\n",
       "      <th>original_title</th>\n",
       "      <th>overview</th>\n",
       "      <th>popularity</th>\n",
       "      <th>poster_path</th>\n",
       "      <th>release_date</th>\n",
       "      <th>...</th>\n",
       "      <th>vote_count</th>\n",
       "      <th>budget</th>\n",
       "      <th>production_companies</th>\n",
       "      <th>production_countries</th>\n",
       "      <th>revenue</th>\n",
       "      <th>runtime</th>\n",
       "      <th>spoken_languages</th>\n",
       "      <th>status</th>\n",
       "      <th>tagline</th>\n",
       "      <th>title_y</th>\n",
       "    </tr>\n",
       "  </thead>\n",
       "  <tbody>\n",
       "    <tr>\n",
       "      <th>0</th>\n",
       "      <td>False</td>\n",
       "      <td>/lWqjXgut48IK5f5IRbDBAoO2Epp.jpg</td>\n",
       "      <td>[16, 12, 10751, 14, 35]</td>\n",
       "      <td>502356</td>\n",
       "      <td>en</td>\n",
       "      <td>The Super Mario Bros. Movie</td>\n",
       "      <td>While working underground to fix a water main,...</td>\n",
       "      <td>10478.582</td>\n",
       "      <td>/qNBAXBIQlnOThrVvA6mA2B5ggV6.jpg</td>\n",
       "      <td>2023-04-05</td>\n",
       "      <td>...</td>\n",
       "      <td>1344</td>\n",
       "      <td>100000000</td>\n",
       "      <td>[{'id': 33, 'logo_path': '/8lvHyhjr8oUKOOy2dKX...</td>\n",
       "      <td>[{'iso_3166_1': 'JP', 'name': 'Japan'}, {'iso_...</td>\n",
       "      <td>891438061</td>\n",
       "      <td>92</td>\n",
       "      <td>[{'english_name': 'English', 'iso_639_1': 'en'...</td>\n",
       "      <td>Released</td>\n",
       "      <td></td>\n",
       "      <td>The Super Mario Bros. Movie</td>\n",
       "    </tr>\n",
       "    <tr>\n",
       "      <th>1</th>\n",
       "      <td>False</td>\n",
       "      <td>/8YFL5QQVPy3AgrEQxNYVSgiPEbe.jpg</td>\n",
       "      <td>[28, 12, 878]</td>\n",
       "      <td>640146</td>\n",
       "      <td>en</td>\n",
       "      <td>Ant-Man and the Wasp: Quantumania</td>\n",
       "      <td>Super-Hero partners Scott Lang and Hope van Dy...</td>\n",
       "      <td>12579.923</td>\n",
       "      <td>/ngl2FKBlU4fhbdsrtdom9LVLBXw.jpg</td>\n",
       "      <td>2023-02-15</td>\n",
       "      <td>...</td>\n",
       "      <td>1741</td>\n",
       "      <td>200000000</td>\n",
       "      <td>[{'id': 420, 'logo_path': '/hUzeosd33nzE5MCNsZ...</td>\n",
       "      <td>[{'iso_3166_1': 'US', 'name': 'United States o...</td>\n",
       "      <td>473237851</td>\n",
       "      <td>125</td>\n",
       "      <td>[{'english_name': 'English', 'iso_639_1': 'en'...</td>\n",
       "      <td>Released</td>\n",
       "      <td>Witness the beginning of a new dynasty.</td>\n",
       "      <td>Ant-Man and the Wasp: Quantumania</td>\n",
       "    </tr>\n",
       "    <tr>\n",
       "      <th>2</th>\n",
       "      <td>False</td>\n",
       "      <td>/nDxJJyA5giRhXx96q1sWbOUjMBI.jpg</td>\n",
       "      <td>[28, 35, 14]</td>\n",
       "      <td>594767</td>\n",
       "      <td>en</td>\n",
       "      <td>Shazam! Fury of the Gods</td>\n",
       "      <td>Billy Batson and his foster siblings, who tran...</td>\n",
       "      <td>5900.902</td>\n",
       "      <td>/2VK4d3mqqTc7LVZLnLPeRiPaJ71.jpg</td>\n",
       "      <td>2023-03-15</td>\n",
       "      <td>...</td>\n",
       "      <td>1147</td>\n",
       "      <td>125000000</td>\n",
       "      <td>[{'id': 12, 'logo_path': '/5ThIuO93vsk47oexKTS...</td>\n",
       "      <td>[{'iso_3166_1': 'US', 'name': 'United States o...</td>\n",
       "      <td>132128334</td>\n",
       "      <td>130</td>\n",
       "      <td>[{'english_name': 'English', 'iso_639_1': 'en'...</td>\n",
       "      <td>Released</td>\n",
       "      <td>Oh. My. Gods.</td>\n",
       "      <td>Shazam! Fury of the Gods</td>\n",
       "    </tr>\n",
       "    <tr>\n",
       "      <th>3</th>\n",
       "      <td>False</td>\n",
       "      <td>/ovM06PdF3M8wvKb06i4sjW3xoww.jpg</td>\n",
       "      <td>[878, 12, 28]</td>\n",
       "      <td>76600</td>\n",
       "      <td>en</td>\n",
       "      <td>Avatar: The Way of Water</td>\n",
       "      <td>Set more than a decade after the events of the...</td>\n",
       "      <td>4708.270</td>\n",
       "      <td>/t6HIqrRAclMCA60NsSmeqe9RmNV.jpg</td>\n",
       "      <td>2022-12-14</td>\n",
       "      <td>...</td>\n",
       "      <td>7458</td>\n",
       "      <td>350000000</td>\n",
       "      <td>[{'id': 127928, 'logo_path': '/cxMxGzAgMMBhTXk...</td>\n",
       "      <td>[{'iso_3166_1': 'US', 'name': 'United States o...</td>\n",
       "      <td>2312335665</td>\n",
       "      <td>192</td>\n",
       "      <td>[{'english_name': 'English', 'iso_639_1': 'en'...</td>\n",
       "      <td>Released</td>\n",
       "      <td>Return to Pandora.</td>\n",
       "      <td>Avatar: The Way of Water</td>\n",
       "    </tr>\n",
       "    <tr>\n",
       "      <th>4</th>\n",
       "      <td>False</td>\n",
       "      <td>/5i6SjyDbDWqyun8klUuCxrlFbyw.jpg</td>\n",
       "      <td>[18, 28]</td>\n",
       "      <td>677179</td>\n",
       "      <td>en</td>\n",
       "      <td>Creed III</td>\n",
       "      <td>After dominating the boxing world, Adonis Cree...</td>\n",
       "      <td>3850.189</td>\n",
       "      <td>/cvsXj3I9Q2iyyIo95AecSd1tad7.jpg</td>\n",
       "      <td>2023-03-01</td>\n",
       "      <td>...</td>\n",
       "      <td>1161</td>\n",
       "      <td>75000000</td>\n",
       "      <td>[{'id': 21, 'logo_path': '/5Va1Ie5c4sjfEYqixQ3...</td>\n",
       "      <td>[{'iso_3166_1': 'US', 'name': 'United States o...</td>\n",
       "      <td>269000000</td>\n",
       "      <td>116</td>\n",
       "      <td>[{'english_name': 'English', 'iso_639_1': 'en'...</td>\n",
       "      <td>Released</td>\n",
       "      <td>You can't run from your past.</td>\n",
       "      <td>Creed III</td>\n",
       "    </tr>\n",
       "  </tbody>\n",
       "</table>\n",
       "<p>5 rows × 23 columns</p>\n",
       "</div>"
      ],
      "text/plain": [
       "   adult                     backdrop_path                genre_ids      id  \\\n",
       "0  False  /lWqjXgut48IK5f5IRbDBAoO2Epp.jpg  [16, 12, 10751, 14, 35]  502356   \n",
       "1  False  /8YFL5QQVPy3AgrEQxNYVSgiPEbe.jpg            [28, 12, 878]  640146   \n",
       "2  False  /nDxJJyA5giRhXx96q1sWbOUjMBI.jpg             [28, 35, 14]  594767   \n",
       "3  False  /ovM06PdF3M8wvKb06i4sjW3xoww.jpg            [878, 12, 28]   76600   \n",
       "4  False  /5i6SjyDbDWqyun8klUuCxrlFbyw.jpg                 [18, 28]  677179   \n",
       "\n",
       "  original_language                     original_title  \\\n",
       "0                en        The Super Mario Bros. Movie   \n",
       "1                en  Ant-Man and the Wasp: Quantumania   \n",
       "2                en           Shazam! Fury of the Gods   \n",
       "3                en           Avatar: The Way of Water   \n",
       "4                en                          Creed III   \n",
       "\n",
       "                                            overview  popularity  \\\n",
       "0  While working underground to fix a water main,...   10478.582   \n",
       "1  Super-Hero partners Scott Lang and Hope van Dy...   12579.923   \n",
       "2  Billy Batson and his foster siblings, who tran...    5900.902   \n",
       "3  Set more than a decade after the events of the...    4708.270   \n",
       "4  After dominating the boxing world, Adonis Cree...    3850.189   \n",
       "\n",
       "                        poster_path release_date  ... vote_count     budget  \\\n",
       "0  /qNBAXBIQlnOThrVvA6mA2B5ggV6.jpg   2023-04-05  ...       1344  100000000   \n",
       "1  /ngl2FKBlU4fhbdsrtdom9LVLBXw.jpg   2023-02-15  ...       1741  200000000   \n",
       "2  /2VK4d3mqqTc7LVZLnLPeRiPaJ71.jpg   2023-03-15  ...       1147  125000000   \n",
       "3  /t6HIqrRAclMCA60NsSmeqe9RmNV.jpg   2022-12-14  ...       7458  350000000   \n",
       "4  /cvsXj3I9Q2iyyIo95AecSd1tad7.jpg   2023-03-01  ...       1161   75000000   \n",
       "\n",
       "                                production_companies  \\\n",
       "0  [{'id': 33, 'logo_path': '/8lvHyhjr8oUKOOy2dKX...   \n",
       "1  [{'id': 420, 'logo_path': '/hUzeosd33nzE5MCNsZ...   \n",
       "2  [{'id': 12, 'logo_path': '/5ThIuO93vsk47oexKTS...   \n",
       "3  [{'id': 127928, 'logo_path': '/cxMxGzAgMMBhTXk...   \n",
       "4  [{'id': 21, 'logo_path': '/5Va1Ie5c4sjfEYqixQ3...   \n",
       "\n",
       "                                production_countries     revenue runtime  \\\n",
       "0  [{'iso_3166_1': 'JP', 'name': 'Japan'}, {'iso_...   891438061      92   \n",
       "1  [{'iso_3166_1': 'US', 'name': 'United States o...   473237851     125   \n",
       "2  [{'iso_3166_1': 'US', 'name': 'United States o...   132128334     130   \n",
       "3  [{'iso_3166_1': 'US', 'name': 'United States o...  2312335665     192   \n",
       "4  [{'iso_3166_1': 'US', 'name': 'United States o...   269000000     116   \n",
       "\n",
       "                                    spoken_languages    status  \\\n",
       "0  [{'english_name': 'English', 'iso_639_1': 'en'...  Released   \n",
       "1  [{'english_name': 'English', 'iso_639_1': 'en'...  Released   \n",
       "2  [{'english_name': 'English', 'iso_639_1': 'en'...  Released   \n",
       "3  [{'english_name': 'English', 'iso_639_1': 'en'...  Released   \n",
       "4  [{'english_name': 'English', 'iso_639_1': 'en'...  Released   \n",
       "\n",
       "                                   tagline                            title_y  \n",
       "0                                                 The Super Mario Bros. Movie  \n",
       "1  Witness the beginning of a new dynasty.  Ant-Man and the Wasp: Quantumania  \n",
       "2                            Oh. My. Gods.           Shazam! Fury of the Gods  \n",
       "3                       Return to Pandora.           Avatar: The Way of Water  \n",
       "4            You can't run from your past.                          Creed III  \n",
       "\n",
       "[5 rows x 23 columns]"
      ]
     },
     "execution_count": 50,
     "metadata": {},
     "output_type": "execute_result"
    }
   ],
   "source": [
    "final_df.head()"
   ]
  },
  {
   "cell_type": "code",
   "execution_count": 56,
   "metadata": {},
   "outputs": [
    {
     "data": {
      "text/plain": [
       "(9998, 23)"
      ]
     },
     "execution_count": 56,
     "metadata": {},
     "output_type": "execute_result"
    }
   ],
   "source": [
    "final_df.shape"
   ]
  },
  {
   "cell_type": "markdown",
   "metadata": {},
   "source": [
    "Lets save to csv."
   ]
  },
  {
   "cell_type": "code",
   "execution_count": 55,
   "metadata": {},
   "outputs": [],
   "source": [
    "final_df.to_csv('movies.csv', index=False)"
   ]
  },
  {
   "cell_type": "markdown",
   "metadata": {},
   "source": [
    "In the next steps, I'll be proceeding to, data cleaning, exploratory data analysis, feature engineering and modelling"
   ]
  }
 ],
 "metadata": {
  "colab": {
   "provenance": []
  },
  "kernelspec": {
   "display_name": "Python 3 (ipykernel)",
   "language": "python",
   "name": "python3"
  },
  "language_info": {
   "codemirror_mode": {
    "name": "ipython",
    "version": 3
   },
   "file_extension": ".py",
   "mimetype": "text/x-python",
   "name": "python",
   "nbconvert_exporter": "python",
   "pygments_lexer": "ipython3",
   "version": "3.9.15"
  }
 },
 "nbformat": 4,
 "nbformat_minor": 1
}
